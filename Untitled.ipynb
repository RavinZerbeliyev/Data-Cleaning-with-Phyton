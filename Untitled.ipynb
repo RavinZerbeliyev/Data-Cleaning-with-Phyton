{
 "cells": [
  {
   "cell_type": "code",
   "execution_count": 139,
   "id": "dcc97325",
   "metadata": {},
   "outputs": [],
   "source": [
    "import pandas as pd "
   ]
  },
  {
   "cell_type": "code",
   "execution_count": 140,
   "id": "438fbf25",
   "metadata": {},
   "outputs": [],
   "source": [
    "df=pd.read_excel(\"marketing_data.xlsx\")"
   ]
  },
  {
   "cell_type": "code",
   "execution_count": 141,
   "id": "fafb29ed",
   "metadata": {},
   "outputs": [
    {
     "data": {
      "text/html": [
       "<div>\n",
       "<style scoped>\n",
       "    .dataframe tbody tr th:only-of-type {\n",
       "        vertical-align: middle;\n",
       "    }\n",
       "\n",
       "    .dataframe tbody tr th {\n",
       "        vertical-align: top;\n",
       "    }\n",
       "\n",
       "    .dataframe thead th {\n",
       "        text-align: right;\n",
       "    }\n",
       "</style>\n",
       "<table border=\"1\" class=\"dataframe\">\n",
       "  <thead>\n",
       "    <tr style=\"text-align: right;\">\n",
       "      <th></th>\n",
       "      <th>ï»¿ID</th>\n",
       "      <th>Year_Birth</th>\n",
       "      <th>Education</th>\n",
       "      <th>Marital_Status</th>\n",
       "      <th>Income</th>\n",
       "      <th>Kidhome</th>\n",
       "      <th>Teenhome</th>\n",
       "      <th>Dt_Customer</th>\n",
       "      <th>Country</th>\n",
       "    </tr>\n",
       "  </thead>\n",
       "  <tbody>\n",
       "    <tr>\n",
       "      <th>0</th>\n",
       "      <td>1826</td>\n",
       "      <td>1970</td>\n",
       "      <td>Graduation</td>\n",
       "      <td>Divorced</td>\n",
       "      <td>$84,835.00</td>\n",
       "      <td>0.0</td>\n",
       "      <td>0</td>\n",
       "      <td>6/16/2014</td>\n",
       "      <td>SP</td>\n",
       "    </tr>\n",
       "    <tr>\n",
       "      <th>1</th>\n",
       "      <td>1</td>\n",
       "      <td>1961</td>\n",
       "      <td>Graduation</td>\n",
       "      <td>Single</td>\n",
       "      <td>$57,091.00</td>\n",
       "      <td>0.0</td>\n",
       "      <td>0</td>\n",
       "      <td>6/15/2014</td>\n",
       "      <td>CA</td>\n",
       "    </tr>\n",
       "    <tr>\n",
       "      <th>2</th>\n",
       "      <td>10699</td>\n",
       "      <td>1985</td>\n",
       "      <td>Graduation</td>\n",
       "      <td>Married</td>\n",
       "      <td>$44,322.00</td>\n",
       "      <td>1.0</td>\n",
       "      <td>0</td>\n",
       "      <td>6/16/2014</td>\n",
       "      <td>SA</td>\n",
       "    </tr>\n",
       "    <tr>\n",
       "      <th>3</th>\n",
       "      <td>7516</td>\n",
       "      <td>1983</td>\n",
       "      <td>Graduation</td>\n",
       "      <td>Married</td>\n",
       "      <td>$30,096.00</td>\n",
       "      <td>1.0</td>\n",
       "      <td>0</td>\n",
       "      <td>5/22/2014</td>\n",
       "      <td>GER</td>\n",
       "    </tr>\n",
       "    <tr>\n",
       "      <th>4</th>\n",
       "      <td>3129</td>\n",
       "      <td>1983</td>\n",
       "      <td>Graduation</td>\n",
       "      <td>Married</td>\n",
       "      <td>$30,096.00</td>\n",
       "      <td>1.0</td>\n",
       "      <td>0</td>\n",
       "      <td>5/22/2014</td>\n",
       "      <td>SP</td>\n",
       "    </tr>\n",
       "    <tr>\n",
       "      <th>...</th>\n",
       "      <td>...</td>\n",
       "      <td>...</td>\n",
       "      <td>...</td>\n",
       "      <td>...</td>\n",
       "      <td>...</td>\n",
       "      <td>...</td>\n",
       "      <td>...</td>\n",
       "      <td>...</td>\n",
       "      <td>...</td>\n",
       "    </tr>\n",
       "    <tr>\n",
       "      <th>610</th>\n",
       "      <td>10142</td>\n",
       "      <td>1976</td>\n",
       "      <td>PhD</td>\n",
       "      <td>Divorced</td>\n",
       "      <td>$66,476.00</td>\n",
       "      <td>0.0</td>\n",
       "      <td>1</td>\n",
       "      <td>3/7/2013</td>\n",
       "      <td>US</td>\n",
       "    </tr>\n",
       "    <tr>\n",
       "      <th>611</th>\n",
       "      <td>5263</td>\n",
       "      <td>1977</td>\n",
       "      <td>2n Cycle</td>\n",
       "      <td>Married</td>\n",
       "      <td>$31,056.00</td>\n",
       "      <td>1.0</td>\n",
       "      <td>0</td>\n",
       "      <td>1/22/2013</td>\n",
       "      <td>SP</td>\n",
       "    </tr>\n",
       "    <tr>\n",
       "      <th>612</th>\n",
       "      <td>22</td>\n",
       "      <td>1976</td>\n",
       "      <td>Graduation</td>\n",
       "      <td>Divorced</td>\n",
       "      <td>$46,310.00</td>\n",
       "      <td>1.0</td>\n",
       "      <td>0</td>\n",
       "      <td>12/3/2012</td>\n",
       "      <td>SP</td>\n",
       "    </tr>\n",
       "    <tr>\n",
       "      <th>613</th>\n",
       "      <td>528</td>\n",
       "      <td>1978</td>\n",
       "      <td>Graduation</td>\n",
       "      <td>Married</td>\n",
       "      <td>$65,819.00</td>\n",
       "      <td>0.0</td>\n",
       "      <td>0</td>\n",
       "      <td>11/29/2012</td>\n",
       "      <td>IND</td>\n",
       "    </tr>\n",
       "    <tr>\n",
       "      <th>614</th>\n",
       "      <td>4070</td>\n",
       "      <td>1969</td>\n",
       "      <td>PhD</td>\n",
       "      <td>Married</td>\n",
       "      <td>$94,871.00</td>\n",
       "      <td>0.0</td>\n",
       "      <td>2</td>\n",
       "      <td>9/1/2012</td>\n",
       "      <td>CA</td>\n",
       "    </tr>\n",
       "  </tbody>\n",
       "</table>\n",
       "<p>615 rows × 9 columns</p>\n",
       "</div>"
      ],
      "text/plain": [
       "     ï»¿ID  Year_Birth   Education Marital_Status      Income   Kidhome  \\\n",
       "0     1826        1970  Graduation       Divorced  $84,835.00       0.0   \n",
       "1        1        1961  Graduation         Single  $57,091.00       0.0   \n",
       "2    10699        1985  Graduation        Married  $44,322.00       1.0   \n",
       "3     7516        1983  Graduation        Married  $30,096.00       1.0   \n",
       "4     3129        1983  Graduation        Married  $30,096.00       1.0   \n",
       "..     ...         ...         ...            ...          ...      ...   \n",
       "610  10142        1976         PhD       Divorced  $66,476.00       0.0   \n",
       "611   5263        1977    2n Cycle        Married  $31,056.00       1.0   \n",
       "612     22        1976  Graduation       Divorced  $46,310.00       1.0   \n",
       "613    528        1978  Graduation        Married  $65,819.00       0.0   \n",
       "614   4070        1969         PhD        Married  $94,871.00       0.0   \n",
       "\n",
       "     Teenhome Dt_Customer Country  \n",
       "0           0   6/16/2014      SP  \n",
       "1           0   6/15/2014      CA  \n",
       "2           0   6/16/2014      SA  \n",
       "3           0   5/22/2014     GER  \n",
       "4           0   5/22/2014      SP  \n",
       "..        ...         ...     ...  \n",
       "610         1    3/7/2013      US  \n",
       "611         0   1/22/2013      SP  \n",
       "612         0   12/3/2012      SP  \n",
       "613         0  11/29/2012     IND  \n",
       "614         2    9/1/2012      CA  \n",
       "\n",
       "[615 rows x 9 columns]"
      ]
     },
     "execution_count": 141,
     "metadata": {},
     "output_type": "execute_result"
    }
   ],
   "source": [
    "df \n"
   ]
  },
  {
   "cell_type": "markdown",
   "id": "abb05a3e",
   "metadata": {},
   "source": [
    "# Boş dəyərlərin tapılması"
   ]
  },
  {
   "cell_type": "code",
   "execution_count": 142,
   "id": "8b9d4800",
   "metadata": {},
   "outputs": [
    {
     "data": {
      "text/plain": [
       "ï»¿ID              0\n",
       "Year_Birth         0\n",
       "Education          0\n",
       "Marital_Status     0\n",
       " Income           35\n",
       "Kidhome           44\n",
       "Teenhome           0\n",
       "Dt_Customer        0\n",
       "Country            0\n",
       "dtype: int64"
      ]
     },
     "execution_count": 142,
     "metadata": {},
     "output_type": "execute_result"
    }
   ],
   "source": [
    "df.isnull().sum()"
   ]
  },
  {
   "cell_type": "markdown",
   "id": "60600ad2",
   "metadata": {},
   "source": [
    "# Boş deyərləri silinməsi"
   ]
  },
  {
   "cell_type": "code",
   "execution_count": 143,
   "id": "ce02157d",
   "metadata": {},
   "outputs": [],
   "source": [
    "df.dropna(subset=['Kidhome'], inplace=True)"
   ]
  },
  {
   "cell_type": "code",
   "execution_count": 144,
   "id": "330f1d56",
   "metadata": {},
   "outputs": [
    {
     "data": {
      "text/plain": [
       "ï»¿ID              0\n",
       "Year_Birth         0\n",
       "Education          0\n",
       "Marital_Status     0\n",
       " Income           28\n",
       "Kidhome            0\n",
       "Teenhome           0\n",
       "Dt_Customer        0\n",
       "Country            0\n",
       "dtype: int64"
      ]
     },
     "execution_count": 144,
     "metadata": {},
     "output_type": "execute_result"
    }
   ],
   "source": [
    "df.isnull().sum()"
   ]
  },
  {
   "cell_type": "markdown",
   "id": "25ffc6b0",
   "metadata": {},
   "source": [
    "# Sütun tiplərini kontrol etmək"
   ]
  },
  {
   "cell_type": "code",
   "execution_count": 145,
   "id": "957b7745",
   "metadata": {},
   "outputs": [
    {
     "data": {
      "text/plain": [
       "ï»¿ID               int64\n",
       "Year_Birth          int64\n",
       "Education          object\n",
       "Marital_Status     object\n",
       " Income            object\n",
       "Kidhome           float64\n",
       "Teenhome            int64\n",
       "Dt_Customer        object\n",
       "Country            object\n",
       "dtype: object"
      ]
     },
     "execution_count": 145,
     "metadata": {},
     "output_type": "execute_result"
    }
   ],
   "source": [
    "df.dtypes"
   ]
  },
  {
   "cell_type": "markdown",
   "id": "8f23fc2d",
   "metadata": {},
   "source": [
    "# Sütundakə dəyərlərin digər dəyərlərlə əvəz edilməsi "
   ]
  },
  {
   "cell_type": "code",
   "execution_count": 148,
   "id": "0306f716",
   "metadata": {},
   "outputs": [
    {
     "name": "stderr",
     "output_type": "stream",
     "text": [
      "C:\\Users\\Forum\\AppData\\Local\\Temp\\ipykernel_6676\\689694942.py:1: FutureWarning: The default value of regex will change from True to False in a future version. In addition, single character regular expressions will *not* be treated as literal strings when regex=True.\n",
      "  df[\" Income \"]=df[\" Income \"].str.replace(\"$\",\"\")\n",
      "C:\\Users\\Forum\\AppData\\Local\\Temp\\ipykernel_6676\\689694942.py:4: FutureWarning: The default value of regex will change from True to False in a future version. In addition, single character regular expressions will *not* be treated as literal strings when regex=True.\n",
      "  df[\" Income \"]=df[\" Income \"].str.replace(\".\",\"\")\n"
     ]
    }
   ],
   "source": [
    "df[\" Income \"]=df[\" Income \"].str.replace(\"$\",\"\")\n",
    "df[\" Income \"]=df[\" Income \"].str.replace(\",\",\"\")\n",
    "df[\" Income \"]=df[\" Income \"].str.replace(\" \",\"\")\n",
    "df[\" Income \"]=df[\" Income \"].str.replace(\".\",\"\")"
   ]
  },
  {
   "cell_type": "code",
   "execution_count": 168,
   "id": "25ff1058",
   "metadata": {},
   "outputs": [
    {
     "data": {
      "text/html": [
       "<div>\n",
       "<style scoped>\n",
       "    .dataframe tbody tr th:only-of-type {\n",
       "        vertical-align: middle;\n",
       "    }\n",
       "\n",
       "    .dataframe tbody tr th {\n",
       "        vertical-align: top;\n",
       "    }\n",
       "\n",
       "    .dataframe thead th {\n",
       "        text-align: right;\n",
       "    }\n",
       "</style>\n",
       "<table border=\"1\" class=\"dataframe\">\n",
       "  <thead>\n",
       "    <tr style=\"text-align: right;\">\n",
       "      <th></th>\n",
       "      <th>ID</th>\n",
       "      <th>Year_Birth</th>\n",
       "      <th>Education</th>\n",
       "      <th>Marital_Status</th>\n",
       "      <th>Income</th>\n",
       "      <th>Kidhome</th>\n",
       "      <th>Teenhome</th>\n",
       "      <th>Dt_Customer</th>\n",
       "      <th>Country</th>\n",
       "    </tr>\n",
       "  </thead>\n",
       "  <tbody>\n",
       "    <tr>\n",
       "      <th>0</th>\n",
       "      <td>1826</td>\n",
       "      <td>1970</td>\n",
       "      <td>Graduation</td>\n",
       "      <td>Divorced</td>\n",
       "      <td>8483500.0</td>\n",
       "      <td>0.0</td>\n",
       "      <td>0</td>\n",
       "      <td>2014-06-16</td>\n",
       "      <td>SP</td>\n",
       "    </tr>\n",
       "    <tr>\n",
       "      <th>1</th>\n",
       "      <td>1</td>\n",
       "      <td>1961</td>\n",
       "      <td>Graduation</td>\n",
       "      <td>Single</td>\n",
       "      <td>5709100.0</td>\n",
       "      <td>0.0</td>\n",
       "      <td>0</td>\n",
       "      <td>2014-06-15</td>\n",
       "      <td>CA</td>\n",
       "    </tr>\n",
       "    <tr>\n",
       "      <th>2</th>\n",
       "      <td>10699</td>\n",
       "      <td>1985</td>\n",
       "      <td>Graduation</td>\n",
       "      <td>Married</td>\n",
       "      <td>4432200.0</td>\n",
       "      <td>1.0</td>\n",
       "      <td>0</td>\n",
       "      <td>2014-06-16</td>\n",
       "      <td>SA</td>\n",
       "    </tr>\n",
       "    <tr>\n",
       "      <th>3</th>\n",
       "      <td>7516</td>\n",
       "      <td>1983</td>\n",
       "      <td>Graduation</td>\n",
       "      <td>Married</td>\n",
       "      <td>3009600.0</td>\n",
       "      <td>1.0</td>\n",
       "      <td>0</td>\n",
       "      <td>2014-05-22</td>\n",
       "      <td>GER</td>\n",
       "    </tr>\n",
       "    <tr>\n",
       "      <th>4</th>\n",
       "      <td>3129</td>\n",
       "      <td>1983</td>\n",
       "      <td>Graduation</td>\n",
       "      <td>Married</td>\n",
       "      <td>3009600.0</td>\n",
       "      <td>1.0</td>\n",
       "      <td>0</td>\n",
       "      <td>2014-05-22</td>\n",
       "      <td>SP</td>\n",
       "    </tr>\n",
       "  </tbody>\n",
       "</table>\n",
       "</div>"
      ],
      "text/plain": [
       "      ID  Year_Birth   Education Marital_Status    Income   Kidhome  Teenhome  \\\n",
       "0   1826        1970  Graduation       Divorced  8483500.0      0.0         0   \n",
       "1      1        1961  Graduation         Single  5709100.0      0.0         0   \n",
       "2  10699        1985  Graduation        Married  4432200.0      1.0         0   \n",
       "3   7516        1983  Graduation        Married  3009600.0      1.0         0   \n",
       "4   3129        1983  Graduation        Married  3009600.0      1.0         0   \n",
       "\n",
       "  Dt_Customer Country  \n",
       "0  2014-06-16      SP  \n",
       "1  2014-06-15      CA  \n",
       "2  2014-06-16      SA  \n",
       "3  2014-05-22     GER  \n",
       "4  2014-05-22      SP  "
      ]
     },
     "execution_count": 168,
     "metadata": {},
     "output_type": "execute_result"
    }
   ],
   "source": [
    "df.head()"
   ]
  },
  {
   "cell_type": "markdown",
   "id": "4c54384a",
   "metadata": {},
   "source": [
    "# Sütunun tipinin dəyişdirilməsi "
   ]
  },
  {
   "cell_type": "code",
   "execution_count": 157,
   "id": "321faf8f",
   "metadata": {},
   "outputs": [],
   "source": [
    "df[\" Income \"] = pd.to_numeric(df[\" Income \"])\n",
    "df[\"Dt_Customer\"]=pd.to_datetime(df[\"Dt_Customer\"])\n"
   ]
  },
  {
   "cell_type": "markdown",
   "id": "783456d4",
   "metadata": {},
   "source": [
    "# Sütunu medianının tapılması"
   ]
  },
  {
   "cell_type": "code",
   "execution_count": 158,
   "id": "66c7ccbb",
   "metadata": {},
   "outputs": [],
   "source": [
    "median=df[\" Income \"].mean()"
   ]
  },
  {
   "cell_type": "markdown",
   "id": "b2dab3e4",
   "metadata": {},
   "source": [
    "# Boş dəyərlərin doldurulması "
   ]
  },
  {
   "cell_type": "code",
   "execution_count": 161,
   "id": "ad4847ef",
   "metadata": {},
   "outputs": [],
   "source": [
    "\n",
    "df.fillna(median,inplace=True)"
   ]
  },
  {
   "cell_type": "code",
   "execution_count": 162,
   "id": "189e203b",
   "metadata": {},
   "outputs": [
    {
     "data": {
      "text/plain": [
       "ï»¿ID             0\n",
       "Year_Birth        0\n",
       "Education         0\n",
       "Marital_Status    0\n",
       " Income           0\n",
       "Kidhome           0\n",
       "Teenhome          0\n",
       "Dt_Customer       0\n",
       "Country           0\n",
       "dtype: int64"
      ]
     },
     "execution_count": 162,
     "metadata": {},
     "output_type": "execute_result"
    }
   ],
   "source": [
    "df.isnull().sum()"
   ]
  },
  {
   "cell_type": "markdown",
   "id": "92e8bde8",
   "metadata": {},
   "source": [
    "# Sütun adının dəyişdirilməsi "
   ]
  },
  {
   "cell_type": "code",
   "execution_count": 166,
   "id": "d4c29274",
   "metadata": {},
   "outputs": [],
   "source": [
    "df.rename(columns={\"ï»¿ID\": \"ID\"}, inplace=True)\n"
   ]
  },
  {
   "cell_type": "code",
   "execution_count": 167,
   "id": "44110e5e",
   "metadata": {},
   "outputs": [
    {
     "data": {
      "text/plain": [
       "Index(['ID', 'Year_Birth', 'Education', 'Marital_Status', ' Income ',\n",
       "       'Kidhome', 'Teenhome', 'Dt_Customer', 'Country'],\n",
       "      dtype='object')"
      ]
     },
     "execution_count": 167,
     "metadata": {},
     "output_type": "execute_result"
    }
   ],
   "source": [
    "df.columns"
   ]
  },
  {
   "cell_type": "markdown",
   "id": "5e38f817",
   "metadata": {},
   "source": [
    "# Yeni sütun yaratmaq"
   ]
  },
  {
   "cell_type": "code",
   "execution_count": 169,
   "id": "bf85efa0",
   "metadata": {},
   "outputs": [],
   "source": [
    "df[\"kidhome\"]=df.Kidhome.apply(lambda x: str(x).split('.')[0])"
   ]
  },
  {
   "cell_type": "code",
   "execution_count": 170,
   "id": "5cd4241b",
   "metadata": {},
   "outputs": [
    {
     "data": {
      "text/html": [
       "<div>\n",
       "<style scoped>\n",
       "    .dataframe tbody tr th:only-of-type {\n",
       "        vertical-align: middle;\n",
       "    }\n",
       "\n",
       "    .dataframe tbody tr th {\n",
       "        vertical-align: top;\n",
       "    }\n",
       "\n",
       "    .dataframe thead th {\n",
       "        text-align: right;\n",
       "    }\n",
       "</style>\n",
       "<table border=\"1\" class=\"dataframe\">\n",
       "  <thead>\n",
       "    <tr style=\"text-align: right;\">\n",
       "      <th></th>\n",
       "      <th>ID</th>\n",
       "      <th>Year_Birth</th>\n",
       "      <th>Education</th>\n",
       "      <th>Marital_Status</th>\n",
       "      <th>Income</th>\n",
       "      <th>Kidhome</th>\n",
       "      <th>Teenhome</th>\n",
       "      <th>Dt_Customer</th>\n",
       "      <th>Country</th>\n",
       "      <th>kidhome</th>\n",
       "    </tr>\n",
       "  </thead>\n",
       "  <tbody>\n",
       "    <tr>\n",
       "      <th>0</th>\n",
       "      <td>1826</td>\n",
       "      <td>1970</td>\n",
       "      <td>Graduation</td>\n",
       "      <td>Divorced</td>\n",
       "      <td>8483500.0</td>\n",
       "      <td>0.0</td>\n",
       "      <td>0</td>\n",
       "      <td>2014-06-16</td>\n",
       "      <td>SP</td>\n",
       "      <td>0</td>\n",
       "    </tr>\n",
       "    <tr>\n",
       "      <th>1</th>\n",
       "      <td>1</td>\n",
       "      <td>1961</td>\n",
       "      <td>Graduation</td>\n",
       "      <td>Single</td>\n",
       "      <td>5709100.0</td>\n",
       "      <td>0.0</td>\n",
       "      <td>0</td>\n",
       "      <td>2014-06-15</td>\n",
       "      <td>CA</td>\n",
       "      <td>0</td>\n",
       "    </tr>\n",
       "    <tr>\n",
       "      <th>2</th>\n",
       "      <td>10699</td>\n",
       "      <td>1985</td>\n",
       "      <td>Graduation</td>\n",
       "      <td>Married</td>\n",
       "      <td>4432200.0</td>\n",
       "      <td>1.0</td>\n",
       "      <td>0</td>\n",
       "      <td>2014-06-16</td>\n",
       "      <td>SA</td>\n",
       "      <td>1</td>\n",
       "    </tr>\n",
       "    <tr>\n",
       "      <th>3</th>\n",
       "      <td>7516</td>\n",
       "      <td>1983</td>\n",
       "      <td>Graduation</td>\n",
       "      <td>Married</td>\n",
       "      <td>3009600.0</td>\n",
       "      <td>1.0</td>\n",
       "      <td>0</td>\n",
       "      <td>2014-05-22</td>\n",
       "      <td>GER</td>\n",
       "      <td>1</td>\n",
       "    </tr>\n",
       "    <tr>\n",
       "      <th>4</th>\n",
       "      <td>3129</td>\n",
       "      <td>1983</td>\n",
       "      <td>Graduation</td>\n",
       "      <td>Married</td>\n",
       "      <td>3009600.0</td>\n",
       "      <td>1.0</td>\n",
       "      <td>0</td>\n",
       "      <td>2014-05-22</td>\n",
       "      <td>SP</td>\n",
       "      <td>1</td>\n",
       "    </tr>\n",
       "  </tbody>\n",
       "</table>\n",
       "</div>"
      ],
      "text/plain": [
       "      ID  Year_Birth   Education Marital_Status    Income   Kidhome  Teenhome  \\\n",
       "0   1826        1970  Graduation       Divorced  8483500.0      0.0         0   \n",
       "1      1        1961  Graduation         Single  5709100.0      0.0         0   \n",
       "2  10699        1985  Graduation        Married  4432200.0      1.0         0   \n",
       "3   7516        1983  Graduation        Married  3009600.0      1.0         0   \n",
       "4   3129        1983  Graduation        Married  3009600.0      1.0         0   \n",
       "\n",
       "  Dt_Customer Country kidhome  \n",
       "0  2014-06-16      SP       0  \n",
       "1  2014-06-15      CA       0  \n",
       "2  2014-06-16      SA       1  \n",
       "3  2014-05-22     GER       1  \n",
       "4  2014-05-22      SP       1  "
      ]
     },
     "execution_count": 170,
     "metadata": {},
     "output_type": "execute_result"
    }
   ],
   "source": [
    "df.head()"
   ]
  },
  {
   "cell_type": "markdown",
   "id": "5312f2e5",
   "metadata": {},
   "source": [
    "# Sütun silmək"
   ]
  },
  {
   "cell_type": "code",
   "execution_count": 172,
   "id": "2a656800",
   "metadata": {},
   "outputs": [],
   "source": [
    "df.drop(\"Kidhome\", axis=1, inplace=True)"
   ]
  },
  {
   "cell_type": "code",
   "execution_count": 173,
   "id": "eb81a742",
   "metadata": {},
   "outputs": [
    {
     "data": {
      "text/html": [
       "<div>\n",
       "<style scoped>\n",
       "    .dataframe tbody tr th:only-of-type {\n",
       "        vertical-align: middle;\n",
       "    }\n",
       "\n",
       "    .dataframe tbody tr th {\n",
       "        vertical-align: top;\n",
       "    }\n",
       "\n",
       "    .dataframe thead th {\n",
       "        text-align: right;\n",
       "    }\n",
       "</style>\n",
       "<table border=\"1\" class=\"dataframe\">\n",
       "  <thead>\n",
       "    <tr style=\"text-align: right;\">\n",
       "      <th></th>\n",
       "      <th>ID</th>\n",
       "      <th>Year_Birth</th>\n",
       "      <th>Education</th>\n",
       "      <th>Marital_Status</th>\n",
       "      <th>Income</th>\n",
       "      <th>Teenhome</th>\n",
       "      <th>Dt_Customer</th>\n",
       "      <th>Country</th>\n",
       "      <th>kidhome</th>\n",
       "    </tr>\n",
       "  </thead>\n",
       "  <tbody>\n",
       "    <tr>\n",
       "      <th>0</th>\n",
       "      <td>1826</td>\n",
       "      <td>1970</td>\n",
       "      <td>Graduation</td>\n",
       "      <td>Divorced</td>\n",
       "      <td>8483500.0</td>\n",
       "      <td>0</td>\n",
       "      <td>2014-06-16</td>\n",
       "      <td>SP</td>\n",
       "      <td>0</td>\n",
       "    </tr>\n",
       "    <tr>\n",
       "      <th>1</th>\n",
       "      <td>1</td>\n",
       "      <td>1961</td>\n",
       "      <td>Graduation</td>\n",
       "      <td>Single</td>\n",
       "      <td>5709100.0</td>\n",
       "      <td>0</td>\n",
       "      <td>2014-06-15</td>\n",
       "      <td>CA</td>\n",
       "      <td>0</td>\n",
       "    </tr>\n",
       "    <tr>\n",
       "      <th>2</th>\n",
       "      <td>10699</td>\n",
       "      <td>1985</td>\n",
       "      <td>Graduation</td>\n",
       "      <td>Married</td>\n",
       "      <td>4432200.0</td>\n",
       "      <td>0</td>\n",
       "      <td>2014-06-16</td>\n",
       "      <td>SA</td>\n",
       "      <td>1</td>\n",
       "    </tr>\n",
       "    <tr>\n",
       "      <th>3</th>\n",
       "      <td>7516</td>\n",
       "      <td>1983</td>\n",
       "      <td>Graduation</td>\n",
       "      <td>Married</td>\n",
       "      <td>3009600.0</td>\n",
       "      <td>0</td>\n",
       "      <td>2014-05-22</td>\n",
       "      <td>GER</td>\n",
       "      <td>1</td>\n",
       "    </tr>\n",
       "    <tr>\n",
       "      <th>4</th>\n",
       "      <td>3129</td>\n",
       "      <td>1983</td>\n",
       "      <td>Graduation</td>\n",
       "      <td>Married</td>\n",
       "      <td>3009600.0</td>\n",
       "      <td>0</td>\n",
       "      <td>2014-05-22</td>\n",
       "      <td>SP</td>\n",
       "      <td>1</td>\n",
       "    </tr>\n",
       "  </tbody>\n",
       "</table>\n",
       "</div>"
      ],
      "text/plain": [
       "      ID  Year_Birth   Education Marital_Status    Income   Teenhome  \\\n",
       "0   1826        1970  Graduation       Divorced  8483500.0         0   \n",
       "1      1        1961  Graduation         Single  5709100.0         0   \n",
       "2  10699        1985  Graduation        Married  4432200.0         0   \n",
       "3   7516        1983  Graduation        Married  3009600.0         0   \n",
       "4   3129        1983  Graduation        Married  3009600.0         0   \n",
       "\n",
       "  Dt_Customer Country kidhome  \n",
       "0  2014-06-16      SP       0  \n",
       "1  2014-06-15      CA       0  \n",
       "2  2014-06-16      SA       1  \n",
       "3  2014-05-22     GER       1  \n",
       "4  2014-05-22      SP       1  "
      ]
     },
     "execution_count": 173,
     "metadata": {},
     "output_type": "execute_result"
    }
   ],
   "source": [
    "df.head()"
   ]
  },
  {
   "cell_type": "markdown",
   "id": "c2b78585",
   "metadata": {},
   "source": [
    "# Dublikat dəyərləri yoxlamaq"
   ]
  },
  {
   "cell_type": "code",
   "execution_count": 185,
   "id": "55ad2b72",
   "metadata": {},
   "outputs": [
    {
     "data": {
      "text/plain": [
       "0"
      ]
     },
     "execution_count": 185,
     "metadata": {},
     "output_type": "execute_result"
    }
   ],
   "source": [
    "df.duplicated().sum()"
   ]
  },
  {
   "cell_type": "code",
   "execution_count": null,
   "id": "28102bac",
   "metadata": {},
   "outputs": [],
   "source": []
  }
 ],
 "metadata": {
  "kernelspec": {
   "display_name": "Python 3 (ipykernel)",
   "language": "python",
   "name": "python3"
  },
  "language_info": {
   "codemirror_mode": {
    "name": "ipython",
    "version": 3
   },
   "file_extension": ".py",
   "mimetype": "text/x-python",
   "name": "python",
   "nbconvert_exporter": "python",
   "pygments_lexer": "ipython3",
   "version": "3.9.13"
  }
 },
 "nbformat": 4,
 "nbformat_minor": 5
}
